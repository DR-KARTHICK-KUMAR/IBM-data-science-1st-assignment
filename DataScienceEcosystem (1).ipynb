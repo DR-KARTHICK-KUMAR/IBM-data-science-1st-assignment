{
 "cells": [
  {
   "cell_type": "code",
   "execution_count": 2,
   "id": "b34663fd-feb4-490b-b1fd-fae439e777de",
   "metadata": {},
   "outputs": [],
   "source": [
    "#exercise 2:"
   ]
  },
  {
   "cell_type": "markdown",
   "id": "f12cef06-738a-43f0-a1ce-1e321c6821d2",
   "metadata": {},
   "source": [
    "# Data Science Tools and Ecosystem"
   ]
  },
  {
   "cell_type": "code",
   "execution_count": 3,
   "id": "e8968731-4c1b-4bb7-ae56-90e14d1ec521",
   "metadata": {},
   "outputs": [],
   "source": [
    "#exercise 3:"
   ]
  },
  {
   "cell_type": "markdown",
   "id": "7d327db4-642e-448e-9e63-6075f11f662f",
   "metadata": {},
   "source": [
    "# Introduction\n",
    "**In this notebook, Data Science Tools and Ecosystem are summarized.**"
   ]
  },
  {
   "cell_type": "code",
   "execution_count": 5,
   "id": "26565b84-14c3-4494-9e60-e3cd2d6367c3",
   "metadata": {},
   "outputs": [],
   "source": [
    "#exercise 4:"
   ]
  },
  {
   "cell_type": "markdown",
   "id": "273cc0e1-0802-4303-9385-4d16f08e7f7a",
   "metadata": {},
   "source": [
    "**Some of the popular languages that Data Scientists use are:**"
   ]
  },
  {
   "cell_type": "markdown",
   "id": "6b6bb589-a01c-498f-a45e-72dcf47aac82",
   "metadata": {},
   "source": [
    "1. Python\n",
    "2. Sql\n",
    "3. R Studio\n",
    " "
   ]
  },
  {
   "cell_type": "code",
   "execution_count": 6,
   "id": "303bee57-f847-485d-ab80-2d8e0997e05c",
   "metadata": {},
   "outputs": [],
   "source": [
    "#exercise 5:"
   ]
  },
  {
   "cell_type": "markdown",
   "id": "d776868b-1937-4293-ab7a-4946a6c0f143",
   "metadata": {},
   "source": [
    "### Some of the commonly used libraries used by Data Scientists include:"
   ]
  },
  {
   "cell_type": "markdown",
   "id": "2af38246-4f12-4c75-9427-5dd1e5333690",
   "metadata": {},
   "source": [
    "1. Pandas\n",
    "2. NumPy\n",
    "3. Matplotlib\n",
    "4. Seaborn"
   ]
  },
  {
   "cell_type": "code",
   "execution_count": 7,
   "id": "f58ee95d-bd7f-4800-92d2-3e5afec5c157",
   "metadata": {},
   "outputs": [],
   "source": [
    "#exercise 6:"
   ]
  },
  {
   "cell_type": "markdown",
   "id": "2c7127f7-82d5-47b2-84a9-f97bf333e5bc",
   "metadata": {},
   "source": [
    "|Data Science Tools|\n",
    "|------------------|\n",
    "|Python|\n",
    "|Sql|\n",
    "|Apache Hadoop|\n",
    "|R studio|"
   ]
  },
  {
   "cell_type": "code",
   "execution_count": 8,
   "id": "031d1000-ed8d-44e3-ab70-ff0fc5c584ed",
   "metadata": {},
   "outputs": [],
   "source": [
    "#exercise 7:"
   ]
  },
  {
   "cell_type": "markdown",
   "id": "6546522a-4b42-4d3d-b53a-d19d6a6d62a0",
   "metadata": {},
   "source": [
    "### Below are a few examples of evaluating arithmetic expressions in Python."
   ]
  },
  {
   "cell_type": "code",
   "execution_count": 9,
   "id": "ce920cf0-4edd-49c4-87ae-709e5aaac2dc",
   "metadata": {},
   "outputs": [],
   "source": [
    "#exercise 8:"
   ]
  },
  {
   "cell_type": "code",
   "execution_count": 10,
   "id": "19500309-3d2a-4738-b3af-c4576efd26f5",
   "metadata": {},
   "outputs": [
    {
     "data": {
      "text/plain": [
       "17"
      ]
     },
     "execution_count": 10,
     "metadata": {},
     "output_type": "execute_result"
    }
   ],
   "source": [
    "#This a simple arithmetic expression to mutiply then add integers\n",
    "\n",
    "(3*4)+5"
   ]
  },
  {
   "cell_type": "code",
   "execution_count": 11,
   "id": "5b3ae1f7-7d40-4790-90e0-ccec5c1a024e",
   "metadata": {},
   "outputs": [],
   "source": [
    "#exercise 9:"
   ]
  },
  {
   "cell_type": "code",
   "execution_count": 12,
   "id": "16d9c352-1b0a-4369-b29b-fa32d50b469c",
   "metadata": {},
   "outputs": [
    {
     "data": {
      "text/plain": [
       "3.3333333333333335"
      ]
     },
     "execution_count": 12,
     "metadata": {},
     "output_type": "execute_result"
    }
   ],
   "source": [
    "#This will convert 200 minutes to hours by diving by 60\n",
    "\n",
    "200/60"
   ]
  },
  {
   "cell_type": "code",
   "execution_count": 13,
   "id": "bc59bd29-842d-4ebe-8218-3ef3fbf1b4bc",
   "metadata": {},
   "outputs": [],
   "source": [
    "#exercise 10:"
   ]
  },
  {
   "cell_type": "markdown",
   "id": "a2911792-0ff2-4998-b5fc-2d71caa59c0d",
   "metadata": {},
   "source": [
    "**Objectives:**"
   ]
  },
  {
   "cell_type": "markdown",
   "id": "094c32f4-44c9-45a9-a624-eab28738b352",
   "metadata": {},
   "source": [
    "- List popular languages for Data Science\n",
    "- Identify open-source tools used in Data Science\n",
    "- Understand basic arithmetic operations in Python\n",
    "- Create markdown cells in Jupyter Notebook\n",
    "- Perform simple data analysis tasks"
   ]
  },
  {
   "cell_type": "code",
   "execution_count": 14,
   "id": "6cd9c420-2a9d-4e7c-b92c-b5476c4980a8",
   "metadata": {},
   "outputs": [],
   "source": [
    "#exercise 11:"
   ]
  },
  {
   "cell_type": "markdown",
   "id": "917b7706-2e8e-43a7-953a-39868839113f",
   "metadata": {},
   "source": [
    "## Author"
   ]
  },
  {
   "cell_type": "markdown",
   "id": "72172d8f-df69-4fdc-bddb-e508ef81d025",
   "metadata": {},
   "source": [
    "**D.R.KARTHICK KUMAR**"
   ]
  },
  {
   "cell_type": "code",
   "execution_count": null,
   "id": "2b31c8b1-0f11-4bb6-be1d-b46fe122637c",
   "metadata": {},
   "outputs": [],
   "source": []
  }
 ],
 "metadata": {
  "kernelspec": {
   "display_name": "Python 3 (ipykernel)",
   "language": "python",
   "name": "python3"
  },
  "language_info": {
   "codemirror_mode": {
    "name": "ipython",
    "version": 3
   },
   "file_extension": ".py",
   "mimetype": "text/x-python",
   "name": "python",
   "nbconvert_exporter": "python",
   "pygments_lexer": "ipython3",
   "version": "3.12.4"
  }
 },
 "nbformat": 4,
 "nbformat_minor": 5
}
